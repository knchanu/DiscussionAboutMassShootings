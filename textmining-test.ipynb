{
 "cells": [
  {
   "cell_type": "code",
   "execution_count": 1,
   "metadata": {
    "collapsed": true,
    "pycharm": {
     "is_executing": false
    }
   },
   "outputs": [
    {
     "name": "stderr",
     "text": [
      "[nltk_data] Downloading package stopwords to\n[nltk_data]     /Users/pangjing/nltk_data...\n[nltk_data]   Package stopwords is already up-to-date!\n"
     ],
     "output_type": "stream"
    },
    {
     "data": {
      "text/plain": "True"
     },
     "metadata": {},
     "output_type": "execute_result",
     "execution_count": 1
    }
   ],
   "source": [
    "import pandas as pd\n",
    "import nltk\n",
    "nltk.download('stopwords')\n"
   ]
  },
  {
   "cell_type": "code",
   "execution_count": 2,
   "outputs": [
    {
     "data": {
      "text/plain": "                                            comments\n0  {'author': 'Kwyjybo', 'author_created_utc': 13...\n1  {'author': '[deleted]', 'author_created_utc': ...\n2  {'author': 'Mario_GOATmers', 'author_created_u...\n3  {'author': '[deleted]', 'author_created_utc': ...\n4  {'author': 'talldean', 'author_created_utc': 1...",
      "text/html": "<div>\n<style scoped>\n    .dataframe tbody tr th:only-of-type {\n        vertical-align: middle;\n    }\n\n    .dataframe tbody tr th {\n        vertical-align: top;\n    }\n\n    .dataframe thead th {\n        text-align: right;\n    }\n</style>\n<table border=\"1\" class=\"dataframe\">\n  <thead>\n    <tr style=\"text-align: right;\">\n      <th></th>\n      <th>comments</th>\n    </tr>\n  </thead>\n  <tbody>\n    <tr>\n      <td>0</td>\n      <td>{'author': 'Kwyjybo', 'author_created_utc': 13...</td>\n    </tr>\n    <tr>\n      <td>1</td>\n      <td>{'author': '[deleted]', 'author_created_utc': ...</td>\n    </tr>\n    <tr>\n      <td>2</td>\n      <td>{'author': 'Mario_GOATmers', 'author_created_u...</td>\n    </tr>\n    <tr>\n      <td>3</td>\n      <td>{'author': '[deleted]', 'author_created_utc': ...</td>\n    </tr>\n    <tr>\n      <td>4</td>\n      <td>{'author': 'talldean', 'author_created_utc': 1...</td>\n    </tr>\n  </tbody>\n</table>\n</div>"
     },
     "metadata": {},
     "output_type": "execute_result",
     "execution_count": 2
    }
   ],
   "source": [
    "# current file path\n",
    "path = '/Users/pangjing/PycharmProjects/SCProject/pittsburgh_start=2018-10-27-00:00:00_end=2018-11-27-00:00:00_ep=comment.json'\n",
    "# load data\n",
    "data = pd.read_json(path)\n",
    "# print data to check\n",
    "len(data)\n",
    "data.head(5)"
   ],
   "metadata": {
    "collapsed": false,
    "pycharm": {
     "name": "#%%\n",
     "is_executing": false
    }
   }
  },
  {
   "cell_type": "code",
   "execution_count": 3,
   "outputs": [
    {
     "data": {
      "text/plain": "0       I read the full beard thing and assumed a soci...\n1                                               [deleted]\n10      Oh yeah?! Well I'm 65 and back in MY day, we w...\n100     You are one of the most anti-police I’ve ever ...\n1000    This is beautiful OP. I don’t need one but I h...\nName: body, dtype: object"
     },
     "metadata": {},
     "output_type": "execute_result",
     "execution_count": 3
    }
   ],
   "source": [
    "# reconstruct data to a reasonable structure\n",
    "text = pd.read_json( (data['comments']).to_json(), orient='index')\n",
    "# check body \n",
    "text['body'].head(5)"
   ],
   "metadata": {
    "collapsed": false,
    "pycharm": {
     "name": "#%% \n",
     "is_executing": false
    }
   }
  },
  {
   "cell_type": "code",
   "execution_count": 4,
   "outputs": [
    {
     "data": {
      "text/plain": "                                                   body  word_count\n0     I read the full beard thing and assumed a soci...          13\n1                                             [deleted]           1\n10    Oh yeah?! Well I'm 65 and back in MY day, we w...          53\n100   You are one of the most anti-police I’ve ever ...          15\n1000  This is beautiful OP. I don’t need one but I h...          20",
      "text/html": "<div>\n<style scoped>\n    .dataframe tbody tr th:only-of-type {\n        vertical-align: middle;\n    }\n\n    .dataframe tbody tr th {\n        vertical-align: top;\n    }\n\n    .dataframe thead th {\n        text-align: right;\n    }\n</style>\n<table border=\"1\" class=\"dataframe\">\n  <thead>\n    <tr style=\"text-align: right;\">\n      <th></th>\n      <th>body</th>\n      <th>word_count</th>\n    </tr>\n  </thead>\n  <tbody>\n    <tr>\n      <td>0</td>\n      <td>I read the full beard thing and assumed a soci...</td>\n      <td>13</td>\n    </tr>\n    <tr>\n      <td>1</td>\n      <td>[deleted]</td>\n      <td>1</td>\n    </tr>\n    <tr>\n      <td>10</td>\n      <td>Oh yeah?! Well I'm 65 and back in MY day, we w...</td>\n      <td>53</td>\n    </tr>\n    <tr>\n      <td>100</td>\n      <td>You are one of the most anti-police I’ve ever ...</td>\n      <td>15</td>\n    </tr>\n    <tr>\n      <td>1000</td>\n      <td>This is beautiful OP. I don’t need one but I h...</td>\n      <td>20</td>\n    </tr>\n  </tbody>\n</table>\n</div>"
     },
     "metadata": {},
     "output_type": "execute_result",
     "execution_count": 4
    }
   ],
   "source": [
    "# count body words \n",
    "text['word_count'] = text['body'].apply(lambda x: len(str(x).split(\" \")))\n",
    "text[['body','word_count']].head(5)"
   ],
   "metadata": {
    "collapsed": false,
    "pycharm": {
     "name": "#%%\n",
     "is_executing": false
    }
   }
  },
  {
   "cell_type": "code",
   "execution_count": 5,
   "outputs": [
    {
     "data": {
      "text/plain": "0       i read the full beard thing and assumed a soci...\n1                                               [deleted]\n10      oh yeah?! well i'm 65 and back in my day, we w...\n100     you are one of the most anti-police i’ve ever ...\n1000    this is beautiful op. i don’t need one but i h...\nName: body, dtype: object"
     },
     "metadata": {},
     "output_type": "execute_result",
     "execution_count": 5
    }
   ],
   "source": [
    "# to lower case\n",
    "text['body'] = text['body'].apply(lambda x: \" \".join(x.lower() for x in x.split()))\n",
    "text['body'].head(5)"
   ],
   "metadata": {
    "collapsed": false,
    "pycharm": {
     "name": "#%%\n",
     "is_executing": false
    }
   }
  },
  {
   "cell_type": "code",
   "execution_count": 6,
   "outputs": [
    {
     "data": {
      "text/plain": "0       i read the full beard thing and assumed a soci...\n1                                                 deleted\n10      oh yeah well im 65 and back in my day we would...\n100     you are one of the most antipolice ive ever se...\n1000    this is beautiful op i dont need one but i hop...\nName: body, dtype: object"
     },
     "metadata": {},
     "output_type": "execute_result",
     "execution_count": 6
    }
   ],
   "source": [
    "# remove punctuation\n",
    "text['body'] = text['body'].str.replace('[^\\w\\s]','')\n",
    "text['body'].head(5)"
   ],
   "metadata": {
    "collapsed": false,
    "pycharm": {
     "name": "#%%\n",
     "is_executing": false
    }
   }
  },
  {
   "cell_type": "code",
   "execution_count": 7,
   "outputs": [
    {
     "data": {
      "text/plain": "0       read full beard thing assumed socially incompe...\n1                                                 deleted\n10      oh yeah well im 65 back day would disemboweled...\n100          one antipolice ive ever seen god youre idiot\n1000         beautiful op dont need one hope able connect\nName: body, dtype: object"
     },
     "metadata": {},
     "output_type": "execute_result",
     "execution_count": 7
    }
   ],
   "source": [
    "# remove stopwords\n",
    "from nltk.corpus import stopwords\n",
    "stop = stopwords.words('english')\n",
    "text['body'] = text['body'].apply(lambda x: \" \".join(x for x in x.split() if x not in stop))\n",
    "text['body'].head()"
   ],
   "metadata": {
    "collapsed": false,
    "pycharm": {
     "name": "#%%\n",
     "is_executing": false
    }
   }
  },
  {
   "cell_type": "code",
   "execution_count": 8,
   "outputs": [
    {
     "data": {
      "text/plain": "people    4281\nlike      3121\ndont      2781\nim        2495\nwould     2353\none       2046\nget       2021\nthink     2009\ngood      1442\nthats     1401\ndtype: int64"
     },
     "metadata": {},
     "output_type": "execute_result",
     "execution_count": 8
    }
   ],
   "source": [
    "# list a high freq words \n",
    "freq = pd.Series(' '.join(text['body']).split()).value_counts()[:10]\n",
    "freq"
   ],
   "metadata": {
    "collapsed": false,
    "pycharm": {
     "name": "#%%\n",
     "is_executing": false
    }
   }
  },
  {
   "cell_type": "code",
   "execution_count": 9,
   "outputs": [
    {
     "data": {
      "text/plain": "murmurs       1\nflutter       1\nawarenessi    1\nbehing        1\nantileft      1\n2355          1\nmixers        1\n1700          1\nhatch         1\n845           1\ndtype: int64"
     },
     "metadata": {},
     "output_type": "execute_result",
     "execution_count": 9
    }
   ],
   "source": [
    "# rare words\n",
    "freq = pd.Series(' '.join(text['body']).split()).value_counts()[-10:]\n",
    "freq"
   ],
   "metadata": {
    "collapsed": false,
    "pycharm": {
     "name": "#%%\n",
     "is_executing": false
    }
   }
  },
  {
   "cell_type": "code",
   "execution_count": 9,
   "outputs": [],
   "source": [],
   "metadata": {
    "collapsed": false,
    "pycharm": {
     "name": "#%%\n",
     "is_executing": false
    }
   }
  }
 ],
 "metadata": {
  "language_info": {
   "codemirror_mode": {
    "name": "ipython",
    "version": 2
   },
   "file_extension": ".py",
   "mimetype": "text/x-python",
   "name": "python",
   "nbconvert_exporter": "python",
   "pygments_lexer": "ipython2",
   "version": "2.7.6"
  },
  "kernelspec": {
   "name": "python3",
   "language": "python",
   "display_name": "Python 3"
  },
  "pycharm": {
   "stem_cell": {
    "cell_type": "raw",
    "source": [],
    "metadata": {
     "collapsed": false
    }
   }
  }
 },
 "nbformat": 4,
 "nbformat_minor": 0
}